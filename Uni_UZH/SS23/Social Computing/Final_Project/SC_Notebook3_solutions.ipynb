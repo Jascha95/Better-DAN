{
 "cells": [
  {
   "cell_type": "markdown",
   "metadata": {},
   "source": [
    "## Social Computing: Notebook 3"
   ]
  },
  {
   "cell_type": "markdown",
   "metadata": {},
   "source": [
    "Please include your names below and edit the name of the file to include the last names of the people answering"
   ]
  },
  {
   "cell_type": "code",
   "execution_count": 1,
   "metadata": {},
   "outputs": [],
   "source": [
    "# Students: ..., ..."
   ]
  },
  {
   "cell_type": "markdown",
   "metadata": {},
   "source": [
    "# Part 1: Feature extraction (30 points total)"
   ]
  },
  {
   "cell_type": "markdown",
   "metadata": {},
   "source": [
    "For this exercise you are provided with a dataset of hashed email addresses. This dataset can be found in hashedEmailAddressesGitHubCommits.csv, at https://www.dropbox.com/s/kevcp917ok9qyn0/hashedEmailAddressesGitHubCommits.csv.zip?dl=0. Please make sure you can access this file."
   ]
  },
  {
   "cell_type": "markdown",
   "metadata": {},
   "source": [
    "## Identifying the country of residence\n",
    "\n",
    "**Exercise 1.1 (12 points)**\n",
    "\n",
    "Based on the email address, we can infer different properties about the user. One example is their country of residence. For example, an email like “1315ae6229444367968a943a219f38def9a8112d@vpn-251-169.epfl.ch” will probably correspond to a user located in Switzerland, while an email of the form “59bd0a3ff43b32849b319e645d4798d8a5d1e889@philipphauer.de” will probably correspond to a user located in Germany. \n",
    "\n",
    "Write a script that classifies the email addresses from the file above, based on the country of residence."
   ]
  },
  {
   "cell_type": "code",
   "execution_count": 16,
   "metadata": {},
   "outputs": [
    {
     "data": {
      "text/html": [
       "<div>\n",
       "<style scoped>\n",
       "    .dataframe tbody tr th:only-of-type {\n",
       "        vertical-align: middle;\n",
       "    }\n",
       "\n",
       "    .dataframe tbody tr th {\n",
       "        vertical-align: top;\n",
       "    }\n",
       "\n",
       "    .dataframe thead th {\n",
       "        text-align: right;\n",
       "    }\n",
       "</style>\n",
       "<table border=\"1\" class=\"dataframe\">\n",
       "  <thead>\n",
       "    <tr style=\"text-align: right;\">\n",
       "      <th></th>\n",
       "      <th>email</th>\n",
       "      <th>identifier</th>\n",
       "      <th>country</th>\n",
       "    </tr>\n",
       "  </thead>\n",
       "  <tbody>\n",
       "    <tr>\n",
       "      <th>0</th>\n",
       "      <td>9fd8de5fc2a7c2c0d469b2fff1afde4e5def37ba@georg...</td>\n",
       "      <td>.com</td>\n",
       "      <td>unknown</td>\n",
       "    </tr>\n",
       "    <tr>\n",
       "      <th>1</th>\n",
       "      <td>229de65f28dfbfbe8eeed5e512ab772e573e891a@gmail...</td>\n",
       "      <td>.com</td>\n",
       "      <td>unknown</td>\n",
       "    </tr>\n",
       "    <tr>\n",
       "      <th>2</th>\n",
       "      <td>869a92ca579ecfd79c8d4f27a1fc29f47d2b6b84@kitco...</td>\n",
       "      <td>.com</td>\n",
       "      <td>unknown</td>\n",
       "    </tr>\n",
       "    <tr>\n",
       "      <th>3</th>\n",
       "      <td>f0ed5cc04491838daa1cd1ee171dabd3e0309500@cpc.a...</td>\n",
       "      <td>.jp</td>\n",
       "      <td>Japan</td>\n",
       "    </tr>\n",
       "    <tr>\n",
       "      <th>4</th>\n",
       "      <td>1a66a945a7c848e2e3f1cd5f9692be1f16a0a484@users...</td>\n",
       "      <td>.com</td>\n",
       "      <td>unknown</td>\n",
       "    </tr>\n",
       "    <tr>\n",
       "      <th>...</th>\n",
       "      <td>...</td>\n",
       "      <td>...</td>\n",
       "      <td>...</td>\n",
       "    </tr>\n",
       "    <tr>\n",
       "      <th>2360775</th>\n",
       "      <td>cbe7447ad97f27864fa4162e1cf8a37f986c21f6@gmail...</td>\n",
       "      <td>.com</td>\n",
       "      <td>unknown</td>\n",
       "    </tr>\n",
       "    <tr>\n",
       "      <th>2360776</th>\n",
       "      <td>a3fd0d91f946bcb8d4c687d19402aed11176cb1b@gmail...</td>\n",
       "      <td>.com</td>\n",
       "      <td>unknown</td>\n",
       "    </tr>\n",
       "    <tr>\n",
       "      <th>2360777</th>\n",
       "      <td>f65118d57734745c2604933634602b8ae81d256f@gmail...</td>\n",
       "      <td>.com</td>\n",
       "      <td>unknown</td>\n",
       "    </tr>\n",
       "    <tr>\n",
       "      <th>2360778</th>\n",
       "      <td>a6daaf7a71ffb094243884e0d9e615984dde4618@gmail...</td>\n",
       "      <td>.com</td>\n",
       "      <td>unknown</td>\n",
       "    </tr>\n",
       "    <tr>\n",
       "      <th>2360779</th>\n",
       "      <td>cfeee50629073ed7dfd15aa7714b32f957880cd6@users...</td>\n",
       "      <td>.com</td>\n",
       "      <td>unknown</td>\n",
       "    </tr>\n",
       "  </tbody>\n",
       "</table>\n",
       "<p>2360780 rows × 3 columns</p>\n",
       "</div>"
      ],
      "text/plain": [
       "                                                     email identifier  country\n",
       "0        9fd8de5fc2a7c2c0d469b2fff1afde4e5def37ba@georg...       .com  unknown\n",
       "1        229de65f28dfbfbe8eeed5e512ab772e573e891a@gmail...       .com  unknown\n",
       "2        869a92ca579ecfd79c8d4f27a1fc29f47d2b6b84@kitco...       .com  unknown\n",
       "3        f0ed5cc04491838daa1cd1ee171dabd3e0309500@cpc.a...        .jp    Japan\n",
       "4        1a66a945a7c848e2e3f1cd5f9692be1f16a0a484@users...       .com  unknown\n",
       "...                                                    ...        ...      ...\n",
       "2360775  cbe7447ad97f27864fa4162e1cf8a37f986c21f6@gmail...       .com  unknown\n",
       "2360776  a3fd0d91f946bcb8d4c687d19402aed11176cb1b@gmail...       .com  unknown\n",
       "2360777  f65118d57734745c2604933634602b8ae81d256f@gmail...       .com  unknown\n",
       "2360778  a6daaf7a71ffb094243884e0d9e615984dde4618@gmail...       .com  unknown\n",
       "2360779  cfeee50629073ed7dfd15aa7714b32f957880cd6@users...       .com  unknown\n",
       "\n",
       "[2360780 rows x 3 columns]"
      ]
     },
     "execution_count": 16,
     "metadata": {},
     "output_type": "execute_result"
    }
   ],
   "source": [
    "import pandas as pd\n",
    "from bs4 import BeautifulSoup\n",
    "import requests\n",
    "\n",
    "data = pd.read_csv('hashedEmailAddressesGitHubCommits.csv', header=None)\n",
    "data.columns = ['email']\n",
    "\n",
    "url = \"https://www.worldstandards.eu/other/tlds/\"\n",
    "res = requests.get(url)\n",
    "soup = BeautifulSoup(res.content, 'html.parser')\n",
    "country = [x.text for x in soup.find_all('td', class_='column-1')]\n",
    "tld = [x.text for x in soup.find_all('td', class_='column-2')]\n",
    "\n",
    "\n",
    "def get_country_from_email(df):\n",
    "    \n",
    "    list_to_save = []\n",
    "    \n",
    "    for index, row in df.iterrows():\n",
    "        try:\n",
    "            id_list = row['email'].split(\"@\")\n",
    "            id_string = id_list[1]\n",
    "            identifier = id_string.split(\".\")\n",
    "            key = '.'+identifier[len(identifier)-1]\n",
    "            if key in tld:\n",
    "                i = tld.index(key)\n",
    "                list_to_save.append([row['email'], key, country[i]])\n",
    "            else:\n",
    "                list_to_save.append([row['email'], key, 'unknown'])\n",
    "        except:\n",
    "            list_to_save.append([row['email'], '', ''])                    \n",
    "              \n",
    "    return pd.DataFrame(list_to_save, columns=['email', 'identifier', 'country'])\n",
    "\n",
    "results = get_country_from_email(data)\n",
    "results"
   ]
  },
  {
   "cell_type": "code",
   "execution_count": null,
   "metadata": {
    "pycharm": {
     "name": "#%%\n"
    }
   },
   "outputs": [],
   "source": []
  },
  {
   "cell_type": "markdown",
   "metadata": {},
   "source": [
    "**Exercise 1.2 (6 points)**\n",
    "\n",
    "Select 100 email addresses from the list. Each member of the team should manually evaluate them (separately)."
   ]
  },
  {
   "cell_type": "markdown",
   "metadata": {},
   "source": [
    "Next, compare your results. Did you agree on all the 100 entries? Were you able to label all email addresses?"
   ]
  },
  {
   "cell_type": "code",
   "execution_count": null,
   "metadata": {},
   "outputs": [],
   "source": [
    "# A list of 100 emails classified manually by both students with appropriate analysis for full points"
   ]
  },
  {
   "cell_type": "markdown",
   "metadata": {},
   "source": [
    "**Exercise 1.3 (9 points)**\n",
    "\n",
    "Now, evaluate the coverage and the accuracy of your algorithm by comparing your labels with the algorithm's result. \n",
    " -  Based on the random sample, what % of the data can your algorithm classify? Can you add something to your code to increase it? If, yes, include below your updated code. How much did coverage increase?\n",
    " - Based on the classified items on your list, what % did your algorithm classify correctly?"
   ]
  },
  {
   "cell_type": "code",
   "execution_count": null,
   "metadata": {},
   "outputs": [],
   "source": [
    "# Correct answer plus improved code. For example, classifying based on educational institution in addition to just country level domain is good enough. If the code for 1.1 was already perfect, then get the points anyway."
   ]
  },
  {
   "cell_type": "markdown",
   "metadata": {},
   "source": [
    "**Exercise 1.4 (3 points)**\n",
    "The country of residence is not the only characteristic of the user that can be inferred from their email address. Make a short list of other characteristics that you could infer from the data."
   ]
  },
  {
   "cell_type": "markdown",
   "metadata": {},
   "source": [
    "Examples responses are:\n",
    "* organization type (commercial / non-profit)\n",
    "* organization name\n",
    "* noreply or not\n",
    "* university\n",
    "* e-mail provider company\n",
    "* device if .local"
   ]
  },
  {
   "cell_type": "markdown",
   "metadata": {},
   "source": [
    "# Part 2: Rate limiting (15 points total)"
   ]
  },
  {
   "cell_type": "markdown",
   "metadata": {},
   "source": [
    "**Exercise 2.1 (2 points)**\n",
    "\n",
    "By now, you are familiar with a few APIs, namely Google Books and NYT. For both of them, find the rules about rate limits and summarise them below."
   ]
  },
  {
   "cell_type": "markdown",
   "metadata": {},
   "source": [
    "Google Books: \n",
    "Per-site/Per-user quota: 50 Q/sec, 1200 Q/min\n",
    "Per project quota: 100'000'000 Q/day\n",
    "    \n",
    "NYT: \n",
    "4'000 requests per day\n",
    "10 requests per minute"
   ]
  },
  {
   "cell_type": "markdown",
   "metadata": {},
   "source": [
    "**Exercise 2.2 (8 points)**\n",
    "\n",
    "Next, pick one of these two APIs and try to exceed the rate limit. What reaction do you get from the API? Comment your code to make your logic clear!"
   ]
  },
  {
   "cell_type": "code",
   "execution_count": 17,
   "metadata": {},
   "outputs": [
    {
     "name": "stdout",
     "output_type": "stream",
     "text": [
      "<Response [200]>\n",
      "Request number  0\n",
      "<Response [200]>\n",
      "Request number  1\n",
      "<Response [200]>\n",
      "Request number  2\n",
      "<Response [200]>\n",
      "Request number  3\n",
      "<Response [200]>\n",
      "Request number  4\n",
      "<Response [200]>\n",
      "Request number  5\n",
      "<Response [200]>\n",
      "Request number  6\n",
      "<Response [200]>\n",
      "Request number  7\n",
      "<Response [200]>\n",
      "Request number  8\n",
      "<Response [200]>\n",
      "Request number  9\n",
      "<Response [429]>\n",
      "Request number  10\n",
      "<Response [429]>\n",
      "Request number  11\n",
      "<Response [429]>\n",
      "Request number  12\n",
      "<Response [429]>\n",
      "Request number  13\n",
      "<Response [429]>\n",
      "Request number  14\n"
     ]
    }
   ],
   "source": [
    "## code to exceed rate limit\n",
    "import requests\n",
    "\n",
    "#we send multiple requests to the nyt api\n",
    "ny = \"https://api.nytimes.com/svc/search/v2/articlesearch.json?q=corona&api-key=31lGHgX5YdO9IN07sVxhdPMapiZXgxT7\"\n",
    "i=0\n",
    "while (i<15):\n",
    "    response = requests.get(ny)\n",
    "    print(response)\n",
    "    print('Request number ', i)\n",
    "    i=i+1\n",
    "#we send 11 requests in one minute: Now we get a response status 429 (Too many requests) instead of 200 (Ok)"
   ]
  },
  {
   "cell_type": "markdown",
   "metadata": {},
   "source": [
    "**Exercise 2.3 (5 points)**\n",
    "\n",
    "In the next problem you will check how many requests you can send to Google Search before getting blocked. Websites protect themselves from automated crawling by checking requests that come from the same computer in a small time frame and after a while, they won't respond to the request. A valid response would be \"Response 200\", which you can see if you just print the response of `requests.get('https://www.google.com/search?q=zurich')`. \n",
    "\n",
    "Write code to find out how many requests does it take to get blocked (when you first get a response other than 200). In addition, write what is the number of a blocked response and what does it stand for (Google response XXX)?"
   ]
  },
  {
   "cell_type": "code",
   "execution_count": 19,
   "metadata": {
    "scrolled": true
   },
   "outputs": [
    {
     "name": "stdout",
     "output_type": "stream",
     "text": [
      "<Response [429]>\n",
      "0\n"
     ]
    }
   ],
   "source": [
    "number_of_calls = 0\n",
    "\n",
    "_SESSION = requests.Session()\n",
    "\n",
    "while _SESSION.get('http://www.google.com/search?q=zurich').status_code == 200:\n",
    "    #print(number_of_calls)\n",
    "    number_of_calls += 1\n",
    "\n",
    "print(_SESSION.get('http://www.google.com/search?q=zurich'))\n",
    "print(number_of_calls)\n"
   ]
  },
  {
   "cell_type": "markdown",
   "metadata": {},
   "source": [
    "Answer: Google banned us after 68 calls to the API, with a Response 429 - Too Many Requests"
   ]
  },
  {
   "cell_type": "markdown",
   "metadata": {},
   "source": [
    "## Part 3: Selenium (55 points total)"
   ]
  },
  {
   "cell_type": "markdown",
   "metadata": {},
   "source": [
    "## Before you start: Selenium Download\n",
    "For the next exercises you will have to download selenium. \n",
    "\n",
    "You can read more about the webdriver here (https://chromedriver.chromium.org), but if you want to go straight to the download, go to https://chromedriver.storage.googleapis.com/index.html?path=89.0.4389.23/ and download your version. \n",
    "\n",
    "Moreover, in your terminal type `pip install selenium`. \n",
    "\n",
    "Once this is done, you should be able to run:\n",
    "- `from selenium import webdriver`\n",
    "- `browser = webdriver.Chrome([the path where you put the googlechromedriver])`\n",
    "\n",
    "In case of any issues, the https://chromedriver.chromium.org website has some straightforward info on common bugs. \n"
   ]
  },
  {
   "cell_type": "markdown",
   "metadata": {},
   "source": [
    "## Selenium Sessions\n",
    "\n",
    "**Exercise 3.1 (25 points)**"
   ]
  },
  {
   "cell_type": "markdown",
   "metadata": {},
   "source": [
    "Go to a website of your choice where you have an account. It can for example be the New York Times APi website where you created a login last time but also tutti.ch, comparis, whatever simple website you often use.\n",
    "\n",
    "Using Selenium create a session where you \n",
    "1. go to the main website \n",
    "2. log in \n",
    "3. click on an element of your choice \n",
    "4. scroll to the bottom of the page\n",
    "5. then save the page. \n",
    "\n",
    "When logging in, you will have to find the name of the login form and submit your credentials to it and then click the login button. Here you find an example for a login using selenium but in case you decide to use this help, Facebook should not be your chosen website. https://crossbrowsertesting.com/blog/test-automation/automate-login-with-selenium/\n",
    " \n",
    "Tip: Website uses captcha? You can put your script to sleep for some number of seconds by using time.sleep() function and enter captcha manually."
   ]
  },
  {
   "cell_type": "code",
   "execution_count": 23,
   "metadata": {},
   "outputs": [
    {
     "name": "stderr",
     "output_type": "stream",
     "text": [
      "/Users/michellereiter/Programming/PycharmProjects/SoCompTutor/venv/lib/python3.7/site-packages/ipykernel_launcher.py:3: DeprecationWarning: executable_path has been deprecated, please pass in a Service object\n",
      "  This is separate from the ipykernel package so we can avoid doing imports until\n"
     ]
    },
    {
     "ename": "SessionNotCreatedException",
     "evalue": "Message: session not created: This version of ChromeDriver only supports Chrome version 99\nCurrent browser version is 101.0.4951.64 with binary path /Applications/Google Chrome.app/Contents/MacOS/Google Chrome\nStacktrace:\n0   chromedriver                        0x0000000103dd8159 chromedriver + 5120345\n1   chromedriver                        0x0000000103d65b13 chromedriver + 4651795\n2   chromedriver                        0x0000000103955e68 chromedriver + 392808\n3   chromedriver                        0x000000010397c1e6 chromedriver + 549350\n4   chromedriver                        0x0000000103977c72 chromedriver + 531570\n5   chromedriver                        0x00000001039746ed chromedriver + 517869\n6   chromedriver                        0x00000001039ae825 chromedriver + 755749\n7   chromedriver                        0x00000001039a8a33 chromedriver + 731699\n8   chromedriver                        0x000000010397e5dd chromedriver + 558557\n9   chromedriver                        0x000000010397f4f5 chromedriver + 562421\n10  chromedriver                        0x0000000103d9538d chromedriver + 4846477\n11  chromedriver                        0x0000000103daf21c chromedriver + 4952604\n12  chromedriver                        0x0000000103db4a12 chromedriver + 4975122\n13  chromedriver                        0x0000000103dafb4a chromedriver + 4954954\n14  chromedriver                        0x0000000103d8a5b0 chromedriver + 4801968\n15  chromedriver                        0x0000000103dc9f78 chromedriver + 5062520\n16  chromedriver                        0x0000000103dca0ff chromedriver + 5062911\n17  chromedriver                        0x0000000103ddf545 chromedriver + 5150021\n18  libsystem_pthread.dylib             0x00007ff801ce2514 _pthread_start + 125\n19  libsystem_pthread.dylib             0x00007ff801cde02f thread_start + 15\n",
     "output_type": "error",
     "traceback": [
      "\u001b[0;31m---------------------------------------------------------------------------\u001b[0m",
      "\u001b[0;31mSessionNotCreatedException\u001b[0m                Traceback (most recent call last)",
      "\u001b[0;32m/var/folders/2_/553xqb312f93n_m699cgtwfc0000gn/T/ipykernel_58498/4225511416.py\u001b[0m in \u001b[0;36m<module>\u001b[0;34m\u001b[0m\n\u001b[1;32m      1\u001b[0m \u001b[0;32mfrom\u001b[0m \u001b[0mselenium\u001b[0m \u001b[0;32mimport\u001b[0m \u001b[0mwebdriver\u001b[0m\u001b[0;34m\u001b[0m\u001b[0;34m\u001b[0m\u001b[0m\n\u001b[1;32m      2\u001b[0m \u001b[0;32mimport\u001b[0m \u001b[0mtime\u001b[0m\u001b[0;34m\u001b[0m\u001b[0;34m\u001b[0m\u001b[0m\n\u001b[0;32m----> 3\u001b[0;31m \u001b[0mbrowser\u001b[0m \u001b[0;34m=\u001b[0m \u001b[0mwebdriver\u001b[0m\u001b[0;34m.\u001b[0m\u001b[0mChrome\u001b[0m\u001b[0;34m(\u001b[0m\u001b[0;34m\"/Users/michellereiter/Programming/PycharmProjects/SoCompTutor/submissions_2022/NB3/chromedriver\"\u001b[0m\u001b[0;34m)\u001b[0m\u001b[0;34m\u001b[0m\u001b[0;34m\u001b[0m\u001b[0m\n\u001b[0m\u001b[1;32m      4\u001b[0m \u001b[0;34m\u001b[0m\u001b[0m\n\u001b[1;32m      5\u001b[0m \u001b[0mbrowser\u001b[0m\u001b[0;34m.\u001b[0m\u001b[0mget\u001b[0m\u001b[0;34m(\u001b[0m\u001b[0;34m\"https://gab.com/auth/sign_in\"\u001b[0m\u001b[0;34m)\u001b[0m\u001b[0;34m\u001b[0m\u001b[0;34m\u001b[0m\u001b[0m\n",
      "\u001b[0;32m~/Programming/PycharmProjects/SoCompTutor/venv/lib/python3.7/site-packages/selenium/webdriver/chrome/webdriver.py\u001b[0m in \u001b[0;36m__init__\u001b[0;34m(self, executable_path, port, options, service_args, desired_capabilities, service_log_path, chrome_options, service, keep_alive)\u001b[0m\n\u001b[1;32m     71\u001b[0m                                         \u001b[0mport\u001b[0m\u001b[0;34m,\u001b[0m \u001b[0moptions\u001b[0m\u001b[0;34m,\u001b[0m\u001b[0;34m\u001b[0m\u001b[0;34m\u001b[0m\u001b[0m\n\u001b[1;32m     72\u001b[0m                                         \u001b[0mservice_args\u001b[0m\u001b[0;34m,\u001b[0m \u001b[0mdesired_capabilities\u001b[0m\u001b[0;34m,\u001b[0m\u001b[0;34m\u001b[0m\u001b[0;34m\u001b[0m\u001b[0m\n\u001b[0;32m---> 73\u001b[0;31m                                         service_log_path, service, keep_alive)\n\u001b[0m",
      "\u001b[0;32m~/Programming/PycharmProjects/SoCompTutor/venv/lib/python3.7/site-packages/selenium/webdriver/chromium/webdriver.py\u001b[0m in \u001b[0;36m__init__\u001b[0;34m(self, browser_name, vendor_prefix, port, options, service_args, desired_capabilities, service_log_path, service, keep_alive)\u001b[0m\n\u001b[1;32m     97\u001b[0m                     \u001b[0mbrowser_name\u001b[0m\u001b[0;34m=\u001b[0m\u001b[0mbrowser_name\u001b[0m\u001b[0;34m,\u001b[0m \u001b[0mvendor_prefix\u001b[0m\u001b[0;34m=\u001b[0m\u001b[0mvendor_prefix\u001b[0m\u001b[0;34m,\u001b[0m\u001b[0;34m\u001b[0m\u001b[0;34m\u001b[0m\u001b[0m\n\u001b[1;32m     98\u001b[0m                     keep_alive=keep_alive, ignore_proxy=_ignore_proxy),\n\u001b[0;32m---> 99\u001b[0;31m                 options=options)\n\u001b[0m\u001b[1;32m    100\u001b[0m         \u001b[0;32mexcept\u001b[0m \u001b[0mException\u001b[0m\u001b[0;34m:\u001b[0m\u001b[0;34m\u001b[0m\u001b[0;34m\u001b[0m\u001b[0m\n\u001b[1;32m    101\u001b[0m             \u001b[0mself\u001b[0m\u001b[0;34m.\u001b[0m\u001b[0mquit\u001b[0m\u001b[0;34m(\u001b[0m\u001b[0;34m)\u001b[0m\u001b[0;34m\u001b[0m\u001b[0;34m\u001b[0m\u001b[0m\n",
      "\u001b[0;32m~/Programming/PycharmProjects/SoCompTutor/venv/lib/python3.7/site-packages/selenium/webdriver/remote/webdriver.py\u001b[0m in \u001b[0;36m__init__\u001b[0;34m(self, command_executor, desired_capabilities, browser_profile, proxy, keep_alive, file_detector, options)\u001b[0m\n\u001b[1;32m    267\u001b[0m         \u001b[0mself\u001b[0m\u001b[0;34m.\u001b[0m\u001b[0mfile_detector\u001b[0m \u001b[0;34m=\u001b[0m \u001b[0mfile_detector\u001b[0m \u001b[0;32mor\u001b[0m \u001b[0mLocalFileDetector\u001b[0m\u001b[0;34m(\u001b[0m\u001b[0;34m)\u001b[0m\u001b[0;34m\u001b[0m\u001b[0;34m\u001b[0m\u001b[0m\n\u001b[1;32m    268\u001b[0m         \u001b[0mself\u001b[0m\u001b[0;34m.\u001b[0m\u001b[0mstart_client\u001b[0m\u001b[0;34m(\u001b[0m\u001b[0;34m)\u001b[0m\u001b[0;34m\u001b[0m\u001b[0;34m\u001b[0m\u001b[0m\n\u001b[0;32m--> 269\u001b[0;31m         \u001b[0mself\u001b[0m\u001b[0;34m.\u001b[0m\u001b[0mstart_session\u001b[0m\u001b[0;34m(\u001b[0m\u001b[0mcapabilities\u001b[0m\u001b[0;34m,\u001b[0m \u001b[0mbrowser_profile\u001b[0m\u001b[0;34m)\u001b[0m\u001b[0;34m\u001b[0m\u001b[0;34m\u001b[0m\u001b[0m\n\u001b[0m\u001b[1;32m    270\u001b[0m \u001b[0;34m\u001b[0m\u001b[0m\n\u001b[1;32m    271\u001b[0m     \u001b[0;32mdef\u001b[0m \u001b[0m__repr__\u001b[0m\u001b[0;34m(\u001b[0m\u001b[0mself\u001b[0m\u001b[0;34m)\u001b[0m\u001b[0;34m:\u001b[0m\u001b[0;34m\u001b[0m\u001b[0;34m\u001b[0m\u001b[0m\n",
      "\u001b[0;32m~/Programming/PycharmProjects/SoCompTutor/venv/lib/python3.7/site-packages/selenium/webdriver/remote/webdriver.py\u001b[0m in \u001b[0;36mstart_session\u001b[0;34m(self, capabilities, browser_profile)\u001b[0m\n\u001b[1;32m    358\u001b[0m         parameters = {\"capabilities\": w3c_caps,\n\u001b[1;32m    359\u001b[0m                       \"desiredCapabilities\": capabilities}\n\u001b[0;32m--> 360\u001b[0;31m         \u001b[0mresponse\u001b[0m \u001b[0;34m=\u001b[0m \u001b[0mself\u001b[0m\u001b[0;34m.\u001b[0m\u001b[0mexecute\u001b[0m\u001b[0;34m(\u001b[0m\u001b[0mCommand\u001b[0m\u001b[0;34m.\u001b[0m\u001b[0mNEW_SESSION\u001b[0m\u001b[0;34m,\u001b[0m \u001b[0mparameters\u001b[0m\u001b[0;34m)\u001b[0m\u001b[0;34m\u001b[0m\u001b[0;34m\u001b[0m\u001b[0m\n\u001b[0m\u001b[1;32m    361\u001b[0m         \u001b[0;32mif\u001b[0m \u001b[0;34m'sessionId'\u001b[0m \u001b[0;32mnot\u001b[0m \u001b[0;32min\u001b[0m \u001b[0mresponse\u001b[0m\u001b[0;34m:\u001b[0m\u001b[0;34m\u001b[0m\u001b[0;34m\u001b[0m\u001b[0m\n\u001b[1;32m    362\u001b[0m             \u001b[0mresponse\u001b[0m \u001b[0;34m=\u001b[0m \u001b[0mresponse\u001b[0m\u001b[0;34m[\u001b[0m\u001b[0;34m'value'\u001b[0m\u001b[0;34m]\u001b[0m\u001b[0;34m\u001b[0m\u001b[0;34m\u001b[0m\u001b[0m\n",
      "\u001b[0;32m~/Programming/PycharmProjects/SoCompTutor/venv/lib/python3.7/site-packages/selenium/webdriver/remote/webdriver.py\u001b[0m in \u001b[0;36mexecute\u001b[0;34m(self, driver_command, params)\u001b[0m\n\u001b[1;32m    423\u001b[0m         \u001b[0mresponse\u001b[0m \u001b[0;34m=\u001b[0m \u001b[0mself\u001b[0m\u001b[0;34m.\u001b[0m\u001b[0mcommand_executor\u001b[0m\u001b[0;34m.\u001b[0m\u001b[0mexecute\u001b[0m\u001b[0;34m(\u001b[0m\u001b[0mdriver_command\u001b[0m\u001b[0;34m,\u001b[0m \u001b[0mparams\u001b[0m\u001b[0;34m)\u001b[0m\u001b[0;34m\u001b[0m\u001b[0;34m\u001b[0m\u001b[0m\n\u001b[1;32m    424\u001b[0m         \u001b[0;32mif\u001b[0m \u001b[0mresponse\u001b[0m\u001b[0;34m:\u001b[0m\u001b[0;34m\u001b[0m\u001b[0;34m\u001b[0m\u001b[0m\n\u001b[0;32m--> 425\u001b[0;31m             \u001b[0mself\u001b[0m\u001b[0;34m.\u001b[0m\u001b[0merror_handler\u001b[0m\u001b[0;34m.\u001b[0m\u001b[0mcheck_response\u001b[0m\u001b[0;34m(\u001b[0m\u001b[0mresponse\u001b[0m\u001b[0;34m)\u001b[0m\u001b[0;34m\u001b[0m\u001b[0;34m\u001b[0m\u001b[0m\n\u001b[0m\u001b[1;32m    426\u001b[0m             response['value'] = self._unwrap_value(\n\u001b[1;32m    427\u001b[0m                 response.get('value', None))\n",
      "\u001b[0;32m~/Programming/PycharmProjects/SoCompTutor/venv/lib/python3.7/site-packages/selenium/webdriver/remote/errorhandler.py\u001b[0m in \u001b[0;36mcheck_response\u001b[0;34m(self, response)\u001b[0m\n\u001b[1;32m    245\u001b[0m                 \u001b[0malert_text\u001b[0m \u001b[0;34m=\u001b[0m \u001b[0mvalue\u001b[0m\u001b[0;34m[\u001b[0m\u001b[0;34m'alert'\u001b[0m\u001b[0;34m]\u001b[0m\u001b[0;34m.\u001b[0m\u001b[0mget\u001b[0m\u001b[0;34m(\u001b[0m\u001b[0;34m'text'\u001b[0m\u001b[0;34m)\u001b[0m\u001b[0;34m\u001b[0m\u001b[0;34m\u001b[0m\u001b[0m\n\u001b[1;32m    246\u001b[0m             \u001b[0;32mraise\u001b[0m \u001b[0mexception_class\u001b[0m\u001b[0;34m(\u001b[0m\u001b[0mmessage\u001b[0m\u001b[0;34m,\u001b[0m \u001b[0mscreen\u001b[0m\u001b[0;34m,\u001b[0m \u001b[0mstacktrace\u001b[0m\u001b[0;34m,\u001b[0m \u001b[0malert_text\u001b[0m\u001b[0;34m)\u001b[0m  \u001b[0;31m# type: ignore[call-arg]  # mypy is not smart enough here\u001b[0m\u001b[0;34m\u001b[0m\u001b[0;34m\u001b[0m\u001b[0m\n\u001b[0;32m--> 247\u001b[0;31m         \u001b[0;32mraise\u001b[0m \u001b[0mexception_class\u001b[0m\u001b[0;34m(\u001b[0m\u001b[0mmessage\u001b[0m\u001b[0;34m,\u001b[0m \u001b[0mscreen\u001b[0m\u001b[0;34m,\u001b[0m \u001b[0mstacktrace\u001b[0m\u001b[0;34m)\u001b[0m\u001b[0;34m\u001b[0m\u001b[0;34m\u001b[0m\u001b[0m\n\u001b[0m\u001b[1;32m    248\u001b[0m \u001b[0;34m\u001b[0m\u001b[0m\n\u001b[1;32m    249\u001b[0m     \u001b[0;32mdef\u001b[0m \u001b[0m_value_or_default\u001b[0m\u001b[0;34m(\u001b[0m\u001b[0mself\u001b[0m\u001b[0;34m,\u001b[0m \u001b[0mobj\u001b[0m\u001b[0;34m:\u001b[0m \u001b[0mMapping\u001b[0m\u001b[0;34m[\u001b[0m\u001b[0m_KT\u001b[0m\u001b[0;34m,\u001b[0m \u001b[0m_VT\u001b[0m\u001b[0;34m]\u001b[0m\u001b[0;34m,\u001b[0m \u001b[0mkey\u001b[0m\u001b[0;34m:\u001b[0m \u001b[0m_KT\u001b[0m\u001b[0;34m,\u001b[0m \u001b[0mdefault\u001b[0m\u001b[0;34m:\u001b[0m \u001b[0m_VT\u001b[0m\u001b[0;34m)\u001b[0m \u001b[0;34m->\u001b[0m \u001b[0m_VT\u001b[0m\u001b[0;34m:\u001b[0m\u001b[0;34m\u001b[0m\u001b[0;34m\u001b[0m\u001b[0m\n",
      "\u001b[0;31mSessionNotCreatedException\u001b[0m: Message: session not created: This version of ChromeDriver only supports Chrome version 99\nCurrent browser version is 101.0.4951.64 with binary path /Applications/Google Chrome.app/Contents/MacOS/Google Chrome\nStacktrace:\n0   chromedriver                        0x0000000103dd8159 chromedriver + 5120345\n1   chromedriver                        0x0000000103d65b13 chromedriver + 4651795\n2   chromedriver                        0x0000000103955e68 chromedriver + 392808\n3   chromedriver                        0x000000010397c1e6 chromedriver + 549350\n4   chromedriver                        0x0000000103977c72 chromedriver + 531570\n5   chromedriver                        0x00000001039746ed chromedriver + 517869\n6   chromedriver                        0x00000001039ae825 chromedriver + 755749\n7   chromedriver                        0x00000001039a8a33 chromedriver + 731699\n8   chromedriver                        0x000000010397e5dd chromedriver + 558557\n9   chromedriver                        0x000000010397f4f5 chromedriver + 562421\n10  chromedriver                        0x0000000103d9538d chromedriver + 4846477\n11  chromedriver                        0x0000000103daf21c chromedriver + 4952604\n12  chromedriver                        0x0000000103db4a12 chromedriver + 4975122\n13  chromedriver                        0x0000000103dafb4a chromedriver + 4954954\n14  chromedriver                        0x0000000103d8a5b0 chromedriver + 4801968\n15  chromedriver                        0x0000000103dc9f78 chromedriver + 5062520\n16  chromedriver                        0x0000000103dca0ff chromedriver + 5062911\n17  chromedriver                        0x0000000103ddf545 chromedriver + 5150021\n18  libsystem_pthread.dylib             0x00007ff801ce2514 _pthread_start + 125\n19  libsystem_pthread.dylib             0x00007ff801cde02f thread_start + 15\n"
     ]
    }
   ],
   "source": [
    "from selenium import webdriver\n",
    "import time\n",
    "browser = webdriver.Chrome(\".../chromedriver\")\n",
    "\n",
    "browser.get(\"https://gab.com/auth/sign_in\")\n",
    "username = \"...\"\n",
    "password = \"..\"\n",
    "\n",
    "time.sleep(3)\n",
    "\n",
    "#log in\n",
    "browser.find_element_by_id(\"user_email\").send_keys(username)\n",
    "browser.find_element_by_id(\"user_password\").send_keys(password)\n",
    "\n",
    "#click\n",
    "browser.find_element_by_class_name(\"actions\").click()\n",
    "\n",
    "#this allows the site to load\n",
    "time.sleep(5)\n",
    "\n",
    "#scrolls down\n",
    "browser.execute_script(\"window.scrollTo(0, document.body.scrollHeight);\") \n",
    "\n",
    "#saves page\n",
    "with open('gab_page.html', 'w') as f:\n",
    "    f.write(browser.page_source)"
   ]
  },
  {
   "cell_type": "markdown",
   "metadata": {},
   "source": [
    "## Measuring personalization\n",
    "\n",
    "**Exercise 3.2 (30 points)**"
   ]
  },
  {
   "cell_type": "markdown",
   "metadata": {},
   "source": [
    "In this exercise you will have to imitate the study described in class on a website of your interest. You will have to measure differences in the content that you receive back from the website under varying treatments. \n",
    "\n",
    "You will have to choose a website and a treatment. Use selenium for this exercise as well. \n",
    "- As for websites, you can pick an online store, or traveling site, some news site, Google News.. basically try to pick something that you suspect gives different results for different searchers. \n",
    "- Examples for treatments would be location, being logged in with an account, history with the website, being on a phone vs a desktop, etc. \n",
    "- You can try to pick multiple searches to make sure you are measuring real phenomenon, not only noise\n",
    "- You can include a control treatment in case you suspect there's A/B testing or noise in how the pages look\n",
    "- Finally you have to pick a measure for the differences on the page. In case you receive items on a page, for example URLs or products, you can define an overlap metric. In case the page is more unstructured, come up with an explanation for how you define differences.\n",
    "\n",
    "As your answer, explain which of the above you chose, how you implemented the experiment, and what difference you found in the pages you collected. \n",
    "\n",
    "You can find more info on how to run multiple browsers at the same time here: https://crossbrowsertesting.com/blog/selenium/run-test-multiple-browsers-parallel-selenium/"
   ]
  },
  {
   "cell_type": "code",
   "execution_count": null,
   "metadata": {},
   "outputs": [],
   "source": [
    "import selenium\n",
    "from bs4 import BeautifulSoup\n",
    "\n",
    "chrome_options = webdriver.ChromeOptions()\n",
    "chrome_options.add_argument(\"user-data-dir=/...\")\n",
    "\n",
    "chrome = webdriver.Chrome(\".../chromedriver\", chrome_options=chrome_options)\n",
    "\n",
    "time.sleep(3)\n",
    "\n",
    "chrome.get(\"https://www.youtube.com/\")\n",
    "chrome_page = chrome.page_source\n",
    "chrome_html = BeautifulSoup(chrome_page, \"html.parser\")\n",
    "chrome_tags = chrome_html.find_all(\"yt-formatted-string\", id=\"video-title\")\n",
    "chrome_titles = []\n",
    "for tag in chrome_tags:\n",
    "    chrome_titles.append(tag.text)\n",
    "\n",
    "# time to log in to youtube\n",
    "time.sleep(30)\n",
    "\n",
    "chrome.get(\"https://www.youtube.com/\")\n",
    "chrome_page_2 = chrome.page_source\n",
    "chrome_html_2 = BeautifulSoup(chrome_page_2, \"html.parser\")\n",
    "chrome_tags_2 = chrome_html_2.find_all(\"yt-formatted-string\", id=\"video-title\")\n",
    "chrome_titles_2 = []\n",
    "for tag in chrome_tags_2:\n",
    "    chrome_titles_2.append(tag.text)\n",
    "\n",
    "\n",
    "total = len(chrome_titles) + len(chrome_titles_2)\n",
    "print(len(chrome_titles))\n",
    "print(len(chrome_titles_2))\n",
    "\n",
    "matching_count = 0\n",
    "for title in chrome_titles:\n",
    "    if title in chrome_titles_2:\n",
    "        matching_count += 1\n",
    "\n",
    "print(\"The matching quota is: {}\".format(matching_count/total*100))"
   ]
  }
 ],
 "metadata": {
  "kernelspec": {
   "display_name": "Python 3.10.7 64-bit",
   "language": "python",
   "name": "python3"
  },
  "language_info": {
   "codemirror_mode": {
    "name": "ipython",
    "version": 3
   },
   "file_extension": ".py",
   "mimetype": "text/x-python",
   "name": "python",
   "nbconvert_exporter": "python",
   "pygments_lexer": "ipython3",
   "version": "3.10.7"
  },
  "vscode": {
   "interpreter": {
    "hash": "98590ff4fe04c8543246b2a01debd3de3c5ca9b666f43f1fa87d5110c692004c"
   }
  }
 },
 "nbformat": 4,
 "nbformat_minor": 4
}
