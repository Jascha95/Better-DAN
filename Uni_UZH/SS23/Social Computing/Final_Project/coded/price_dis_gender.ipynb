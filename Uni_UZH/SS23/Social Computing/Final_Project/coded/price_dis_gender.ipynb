{
 "cells": [
  {
   "cell_type": "markdown",
   "metadata": {},
   "source": []
  },
  {
   "cell_type": "code",
   "execution_count": null,
   "metadata": {},
   "outputs": [],
   "source": [
    "#setup modules \n",
    "!pip3 install selenium\n",
    "!pip3 install requests \n",
    "!pip3 install bs4 "
   ]
  },
  {
   "cell_type": "code",
   "execution_count": 1,
   "metadata": {},
   "outputs": [
    {
     "data": {
      "text/plain": [
       "'\\ncrawl the web with requests Selenium and bs4 \\nextract the specific data needed gender based price discrimination \\n1. blank \\n2. female \\n3. male \\n'"
      ]
     },
     "execution_count": 1,
     "metadata": {},
     "output_type": "execute_result"
    }
   ],
   "source": [
    "import requests \n",
    "from bs4 import BeautifulSoup\n",
    "from selenium import webdriver\n",
    "import time\n",
    "\n",
    "\"\"\"\n",
    "crawl the web with requests Selenium and bs4 \n",
    "extract the specific data needed gender based price discrimination \n",
    "1. blank \n",
    "2. female \n",
    "3. male \n",
    "\"\"\" \n",
    "\n"
   ]
  },
  {
   "cell_type": "markdown",
   "metadata": {},
   "source": []
  },
  {
   "cell_type": "code",
   "execution_count": null,
   "metadata": {},
   "outputs": [],
   "source": []
  },
  {
   "cell_type": "markdown",
   "metadata": {},
   "source": []
  },
  {
   "cell_type": "markdown",
   "metadata": {},
   "source": []
  },
  {
   "cell_type": "markdown",
   "metadata": {},
   "source": [
    "selenium nb3 sc"
   ]
  },
  {
   "cell_type": "code",
   "execution_count": null,
   "metadata": {},
   "outputs": [],
   "source": [
    "import selenium\n",
    "from bs4 import BeautifulSoup\n",
    "\n",
    "websites = [\"https://www.instagram.com/\", \"https://www.amazon.com/de\", \"facebook.com/de\"]\n",
    "\n",
    "#kind / login / passwort \n",
    "login_data = [{\"Female\": [\"jennygreenprice@yahoo.com\" , \"Pricediscrimination111\"], \"Male\": [\"john.king90876@yahoo.com\", \"U_mUYQ*vHtZfA8n\"], \"Unisex\": [\"Robingrey18@yahoo.com\", \"2qJ7dcjbkSRY9A3\"] }]#BirthDate: January 1st , 2000 \n",
    "\n",
    "\n",
    "chrome_options = webdriver.ChromeOptions()\n",
    "chrome_options.add_argument(\"user-data-dir=/...\")\n",
    "\n",
    "chrome = webdriver.Chrome(\".../chromedriver\", chrome_options=chrome_options)\n",
    "\n",
    "time.sleep(3)\n",
    "\n",
    "chrome.get(\"https://www.youtube.com/\")\n",
    "chrome_page = chrome.page_source\n",
    "chrome_html = BeautifulSoup(chrome_page, \"html.parser\")\n",
    "chrome_tags = chrome_html.find_all(\"yt-formatted-string\", id=\"video-title\")\n",
    "chrome_titles = []\n",
    "for tag in chrome_tags:\n",
    "    chrome_titles.append(tag.text)\n",
    "\n",
    "# time to log in to youtube\n",
    "time.sleep(30)\n",
    "\n",
    "chrome.get(\"https://www.youtube.com/\")\n",
    "chrome_page_2 = chrome.page_source\n",
    "chrome_html_2 = BeautifulSoup(chrome_page_2, \"html.parser\")\n",
    "chrome_tags_2 = chrome_html_2.find_all(\"yt-formatted-string\", id=\"video-title\")\n",
    "chrome_titles_2 = []\n",
    "for tag in chrome_tags_2:\n",
    "    chrome_titles_2.append(tag.text)\n",
    "\n",
    "\n",
    "total = len(chrome_titles) + len(chrome_titles_2)\n",
    "print(len(chrome_titles))\n",
    "print(len(chrome_titles_2))\n",
    "\n",
    "matching_count = 0\n",
    "for title in chrome_titles:\n",
    "    if title in chrome_titles_2:\n",
    "        matching_count += 1\n",
    "\n",
    "print(\"The matching quota is: {}\".format(matching_count/total*100))"
   ]
  },
  {
   "cell_type": "code",
   "execution_count": 1,
   "metadata": {},
   "outputs": [
    {
     "name": "stderr",
     "output_type": "stream",
     "text": [
      "/var/folders/39/rz4zzkw938z95166vdpwxkl80000gn/T/ipykernel_50707/3914419624.py:15: DeprecationWarning: firefox_profile has been deprecated, please use an Options object\n",
      "  firefox_profile = webdriver.FirefoxProfile(\"/Applications/Firefox.app\")\n",
      "/var/folders/39/rz4zzkw938z95166vdpwxkl80000gn/T/ipykernel_50707/3914419624.py:21: DeprecationWarning: firefox_profile has been deprecated, please pass in an Options object\n",
      "  firefox = webdriver.Firefox(firefox_profile=firefox_profile, options=firefox_options)\n"
     ]
    },
    {
     "ename": "TypeError",
     "evalue": "'NoneType' object is not subscriptable",
     "output_type": "error",
     "traceback": [
      "\u001b[0;31m---------------------------------------------------------------------------\u001b[0m",
      "\u001b[0;31mTypeError\u001b[0m                                 Traceback (most recent call last)",
      "Cell \u001b[0;32mIn[1], line 42\u001b[0m\n\u001b[1;32m     40\u001b[0m     firefox_page \u001b[39m=\u001b[39m firefox\u001b[39m.\u001b[39mpage_source\n\u001b[1;32m     41\u001b[0m     firefox_html \u001b[39m=\u001b[39m BeautifulSoup(firefox_page, \u001b[39m\"\u001b[39m\u001b[39mhtml.parser\u001b[39m\u001b[39m\"\u001b[39m)\n\u001b[0;32m---> 42\u001b[0m     firefox_links\u001b[39m.\u001b[39mupdate([firefox_html\u001b[39m.\u001b[39;49mfind(\u001b[39m\"\u001b[39;49m\u001b[39ma\u001b[39;49m\u001b[39m\"\u001b[39;49m, href\u001b[39m=\u001b[39;49m\u001b[39mTrue\u001b[39;49;00m)[\u001b[39m\"\u001b[39;49m\u001b[39mhref\u001b[39;49m\u001b[39m\"\u001b[39;49m]])\n\u001b[1;32m     44\u001b[0m \u001b[39m# write the links to a CSV file\u001b[39;00m\n\u001b[1;32m     45\u001b[0m \u001b[39mwith\u001b[39;00m \u001b[39mopen\u001b[39m(\u001b[39m\"\u001b[39m\u001b[39mlinks.csv\u001b[39m\u001b[39m\"\u001b[39m, \u001b[39m\"\u001b[39m\u001b[39mw\u001b[39m\u001b[39m\"\u001b[39m, newline\u001b[39m=\u001b[39m\u001b[39m\"\u001b[39m\u001b[39m\"\u001b[39m) \u001b[39mas\u001b[39;00m csvfile:\n",
      "\u001b[0;31mTypeError\u001b[0m: 'NoneType' object is not subscriptable"
     ]
    }
   ],
   "source": [
    "import time\n",
    "from selenium import webdriver\n",
    "from bs4 import BeautifulSoup\n",
    "import csv\n",
    "import os \n",
    "\n",
    "websites = [\"https://www.instagram.com/\", \"https://www.amazon.com/de\", \"https://www.facebook.com/de\"]\n",
    "\n",
    "# kind / login / password\n",
    "login_data = {\"Female\": [\"jennygreenprice@yahoo.com\", \"Pricediscrimination111\"],\n",
    "              \"Male\": [\"john.king90876@yahoo.com\", \"U_mUYQ*vHtZfA8n\"],\n",
    "              \"Unisex\": [\"Robingrey18@yahoo.com\", \"2qJ7dcjbkSRY9A3\"]}  # BirthDate: January 1st , 2000\n",
    "\n",
    "# initialize the Firefox browser\n",
    "firefox_profile = webdriver.FirefoxProfile(\"/Applications/Firefox.app\")\n",
    "#firefox_options = webdriver.FirefoxOptions()\n",
    "#firefox_options.profile = webdriver.FirefoxProfile(\"/Applications/Firefox.app\")\n",
    "\n",
    "firefox_options = webdriver.FirefoxOptions()\n",
    "#firefox_options.add_argument(\"--headless\")\n",
    "firefox = webdriver.Firefox(firefox_profile=firefox_profile, options=firefox_options)\n",
    "\n",
    "# crawl Instagram\n",
    "firefox.get(websites[0])\n",
    "time.sleep(5)\n",
    "firefox.execute_script(\"window.scrollTo(0, document.body.scrollHeight);\")\n",
    "time.sleep(5)\n",
    "firefox.execute_script(\"window.scrollTo(0, document.body.scrollHeight);\")\n",
    "time.sleep(5)\n",
    "\n",
    "firefox_page = firefox.page_source\n",
    "firefox_html = BeautifulSoup(firefox_page, \"html.parser\")\n",
    "firefox_tags = firefox_html.find_all(\"a\", href=True)\n",
    "firefox_links = set([tag[\"href\"] for tag in firefox_tags if tag[\"href\"].startswith(\"https://www.instagram.com/p/\")])\n",
    "\n",
    "# crawl Amazon and Facebook\n",
    "for i in range(1, len(websites)):\n",
    "    firefox.get(websites[i])\n",
    "    time.sleep(5)\n",
    "    firefox_page = firefox.page_source\n",
    "    firefox_html = BeautifulSoup(firefox_page, \"html.parser\")\n",
    "    firefox_links.update([firefox_html.find(\"a\", href=True)[\"href\"]])\n",
    "\n",
    "# write the links to a CSV file\n",
    "with open(\"links.csv\", \"w\", newline=\"\") as csvfile:\n",
    "    writer = csv.writer(csvfile)\n",
    "    for link in firefox_links:\n",
    "        writer.writerow([link])\n",
    "\n",
    "firefox.quit()\n"
   ]
  },
  {
   "cell_type": "code",
   "execution_count": null,
   "metadata": {},
   "outputs": [],
   "source": [
    "url = 'https://www.amazon.com'\n",
    "\n",
    "driver.get(url)\n",
    "def get_url (search_term) :\n",
    "\t\"\"\"Generate a url from search term\"\"\"\n",
    "\ttemplate = 'https://www.amazon.com/s?k={}&ref=nb_sb_noss_1'\n",
    "\tsearch_term = search_term.replace('+')\n",
    "\treturn template.format(search_term)\n",
    "\t\n",
    "\turl = get_url('ultrawide monitor')\n",
    "\tprint(url)\n",
    "\t#https://www.amazon.com/s?k=ultrawide+monitor&ref=nb_sb_noss_1\n",
    "\tdriver.get (url)\n",
    "\n",
    "# def crawl:\n",
    "\n",
    "# \tbrowser = webdriver.Firefox(\".../chromedriver\")\n",
    "\n",
    "# \tbrowser.get(\"https://www.amazon.de/ref=nav_logo\")\n",
    "# \t#https://www.instagram.com \n",
    "# \t#https://www.facebook.com\n",
    "# \t#https://www.wish.com\n",
    "# \tusername = \"...\"\n",
    "# \tpassword = \"..\"\n",
    "\n",
    "# \ttime.sleep(3)\n",
    "\n",
    "# \t#log in\n",
    "# \tbrowser.find_element_by_id(\"user_email\").send_keys(username)\n",
    "# \tbrowser.find_element_by_id(\"user_password\").send_keys(password)\n",
    "\n",
    "# \t#click\n",
    "# \tbrowser.find_element_by_class_name(\"actions\").click()\n",
    "\n",
    "# \t#this allows the site to load\n",
    "# \ttime.sleep(5)\n",
    "\n",
    "# \t#scrolls down\n",
    "# \tbrowser.execute_script(\"window.scrollTo(0, document.body.scrollHeight);\") \n",
    "\n",
    "# \t#saves page\n",
    "# \twith open('gab_page.html', 'w') as f:\n",
    "# \t    f.write(browser.page_source)\n",
    "\n"
   ]
  }
 ],
 "metadata": {
  "kernelspec": {
   "display_name": "Python 3.11.2 64-bit",
   "language": "python",
   "name": "python3"
  },
  "language_info": {
   "codemirror_mode": {
    "name": "ipython",
    "version": 3
   },
   "file_extension": ".py",
   "mimetype": "text/x-python",
   "name": "python",
   "nbconvert_exporter": "python",
   "pygments_lexer": "ipython3",
   "version": "3.11.3"
  },
  "orig_nbformat": 4,
  "vscode": {
   "interpreter": {
    "hash": "949777d72b0d2535278d3dc13498b2535136f6dfe0678499012e853ee9abcab1"
   }
  }
 },
 "nbformat": 4,
 "nbformat_minor": 2
}
